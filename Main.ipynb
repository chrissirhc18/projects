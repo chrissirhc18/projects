{
 "cells": [
  {
   "cell_type": "code",
   "execution_count": 2,
   "metadata": {},
   "outputs": [
    {
     "name": "stdout",
     "output_type": "stream",
     "text": [
      "(600, 10)\n",
      "['Brazilian Tinamou' 'Red-legged Tinamou' 'Yellow-legged Tinamou'\n",
      " 'Black-capped Tinamou' 'Thicket Tinamou' 'Variegated Tinamou'\n",
      " \"Bartlett's Tinamou\" 'Small-billed Tinamou' 'Tataupa Tinamou'\n",
      " 'Red-winged Tinamou' 'Andean Tinamou' 'White-bellied Nothura'\n",
      " 'Spotted Nothura' 'Dwarf Tinamou' 'Orange-footed Scrubfowl'\n",
      " 'Plain Chachalaca' 'Little Chachalaca' 'Band-tailed Guan' 'Andean Guan'\n",
      " 'Rusty-margined Guan']\n"
     ]
    }
   ],
   "source": [
    "import pandas as pd\n",
    "\n",
    "# 1.1 Read the CSV\n",
    "df = pd.read_csv('BirdsVoice.csv')\n",
    "\n",
    "# 1.2 Compute total recordings per species\n",
    "counts = df['common_name'].value_counts()\n",
    "top20 = counts.nlargest(20).index\n",
    "\n",
    "# 1.3 Filter to top 20 and reset index\n",
    "df = df[df['common_name'].isin(top20)].reset_index(drop=True)\n",
    "print(df.shape)            # ~600 × 10\n",
    "print(df['common_name'].unique())"
   ]
  },
  {
   "cell_type": "code",
   "execution_count": 3,
   "metadata": {},
   "outputs": [
    {
     "name": "stdout",
     "output_type": "stream",
     "text": [
      "             filepath  duration_s\n",
      "0  audio/XC524787.mp3          57\n",
      "1  audio/XC521357.mp3           6\n",
      "2  audio/XC686176.mp3          53\n",
      "3  audio/XC643154.mp3         140\n",
      "4  audio/XC606110.mp3          42\n"
     ]
    }
   ],
   "source": [
    "import os\n",
    "\n",
    "# 2.1 Convert “M:SS” → seconds\n",
    "def length_to_seconds(x):\n",
    "    m, s = x.split(':')\n",
    "    return int(m) * 60 + int(s)\n",
    "\n",
    "df['duration_s'] = df['recording_length'].apply(length_to_seconds)\n",
    "\n",
    "# 2.2 Assume you’ve downloaded audio into ./audio/, named by xc_id:\n",
    "df['filepath'] = df['xc_id'].apply(lambda id: os.path.join('audio', f'{id}.mp3'))\n",
    "\n",
    "# 2.3 Quick check\n",
    "print(df[['filepath','duration_s']].head())"
   ]
  },
  {
   "cell_type": "code",
   "execution_count": 4,
   "metadata": {},
   "outputs": [
    {
     "name": "stdout",
     "output_type": "stream",
     "text": [
      "(360, 13) (120, 13) (120, 13)\n"
     ]
    }
   ],
   "source": [
    "from sklearn.model_selection import train_test_split\n",
    "\n",
    "# 3.1 Label encoding\n",
    "label_map = {name:idx for idx,name in enumerate(top20)}\n",
    "df['label'] = df['common_name'].map(label_map)\n",
    "\n",
    "# 3.2 60/20/20 stratified split\n",
    "trainval, test = train_test_split(df, test_size=0.20, \n",
    "                                  stratify=df['label'], random_state=42)\n",
    "train, val   = train_test_split(trainval, test_size=0.25,  # 0.25×0.8 = 0.20\n",
    "                                 stratify=trainval['label'], random_state=42)\n",
    "\n",
    "print(train.shape, val.shape, test.shape)"
   ]
  },
  {
   "cell_type": "code",
   "execution_count": 5,
   "metadata": {},
   "outputs": [],
   "source": [
    "import numpy as np\n",
    "import librosa\n",
    "import os\n",
    "\n",
    "# Audio settings\n",
    "SR = 22050  # sampling rate\n",
    "DURATION = 5.0  # seconds to load/pad\n",
    "N_MELS = 128  # number of mel bands\n",
    "\n",
    "def extract_mel(path):\n",
    "    \"\"\"\n",
    "    Load an audio file, pad or truncate to exactly DURATION seconds,\n",
    "    compute a N_MELS-band mel-spectrogram, convert to dB, and z-score normalize.\n",
    "    Returns:\n",
    "        m_norm: np.ndarray of shape (N_MELS, T) or None if loading fails\n",
    "    \"\"\"\n",
    "    try:\n",
    "        # Check if file exists\n",
    "        if not os.path.exists(path):\n",
    "            print(f\"File not found: {path}\")\n",
    "            return None\n",
    "            \n",
    "        # 1) Load (will truncate if longer than DURATION)\n",
    "        y, _ = librosa.load(path, sr=SR, mono=True, duration=DURATION)\n",
    "        \n",
    "        # Check if audio was loaded successfully\n",
    "        if len(y) == 0:\n",
    "            print(f\"Empty audio file: {path}\")\n",
    "            return None\n",
    "        \n",
    "        # 2) Pad with zeros if too short\n",
    "        target_len = int(SR * DURATION)\n",
    "        if len(y) < target_len:\n",
    "            y = np.pad(y, (0, target_len - len(y)))\n",
    "        \n",
    "        # 3) Compute mel-spectrogram\n",
    "        m = librosa.feature.melspectrogram(y=y, sr=SR, n_mels=N_MELS)\n",
    "        m_db = librosa.power_to_db(m, ref=np.max)\n",
    "        \n",
    "        # 4) Z-score normalization\n",
    "        m_norm = (m_db - m_db.mean()) / (m_db.std() + 1e-6)\n",
    "        \n",
    "        return m_norm\n",
    "        \n",
    "    except Exception as e:\n",
    "        print(f\"Error processing {path}: {str(e)}\")\n",
    "        return None"
   ]
  },
  {
   "cell_type": "code",
   "execution_count": 6,
   "metadata": {},
   "outputs": [
    {
     "name": "stdout",
     "output_type": "stream",
     "text": [
      "Creating dummy dataset for testing...\n",
      "Dataset created successfully!\n",
      "Input shape: (128, 216, 1)\n",
      "Train/Val/Test sizes: 360 120 120\n",
      "Epoch 1/5\n",
      "\u001b[1m12/12\u001b[0m \u001b[32m━━━━━━━━━━━━━━━━━━━━\u001b[0m\u001b[37m\u001b[0m \u001b[1m4s\u001b[0m 248ms/step - accuracy: 0.0472 - loss: 7.2749 - val_accuracy: 0.0500 - val_loss: 2.9957\n",
      "Epoch 2/5\n",
      "\u001b[1m12/12\u001b[0m \u001b[32m━━━━━━━━━━━━━━━━━━━━\u001b[0m\u001b[37m\u001b[0m \u001b[1m3s\u001b[0m 218ms/step - accuracy: 0.0833 - loss: 2.9867 - val_accuracy: 0.0583 - val_loss: 3.0082\n",
      "Epoch 3/5\n",
      "\u001b[1m12/12\u001b[0m \u001b[32m━━━━━━━━━━━━━━━━━━━━\u001b[0m\u001b[37m\u001b[0m \u001b[1m3s\u001b[0m 238ms/step - accuracy: 0.1667 - loss: 2.9590 - val_accuracy: 0.0583 - val_loss: 2.9912\n",
      "Epoch 4/5\n",
      "\u001b[1m12/12\u001b[0m \u001b[32m━━━━━━━━━━━━━━━━━━━━\u001b[0m\u001b[37m\u001b[0m \u001b[1m3s\u001b[0m 209ms/step - accuracy: 0.2806 - loss: 2.7393 - val_accuracy: 0.0750 - val_loss: 3.0822\n",
      "Epoch 5/5\n",
      "\u001b[1m12/12\u001b[0m \u001b[32m━━━━━━━━━━━━━━━━━━━━\u001b[0m\u001b[37m\u001b[0m \u001b[1m2s\u001b[0m 196ms/step - accuracy: 0.4639 - loss: 2.4958 - val_accuracy: 0.0250 - val_loss: 3.0916\n",
      "Model training completed!\n"
     ]
    }
   ],
   "source": [
    "import numpy as np\n",
    "import tensorflow as tf\n",
    "from sklearn.model_selection import train_test_split\n",
    "\n",
    "# Create dummy data that matches your expected shapes\n",
    "# This function generates random mel spectrograms and labels to simulate this dataset and ensure it works.\n",
    "def create_dummy_dataset(n_samples=600, n_classes=20, n_mels=128, time_steps=216):\n",
    "    \"\"\"\n",
    "    Create dummy audio data for testing your model\n",
    "    \"\"\"\n",
    "    # Generate random mel spectrograms\n",
    "    X = np.random.randn(n_samples, n_mels, time_steps, 1).astype(np.float32)\n",
    "    \n",
    "    # Generate random labels\n",
    "    y_labels = np.random.randint(0, n_classes, n_samples)\n",
    "    y = tf.keras.utils.to_categorical(y_labels, num_classes=n_classes)\n",
    "    \n",
    "    return X, y\n",
    "\n",
    "# Replace your data loading section with this:\n",
    "print(\"Creating dummy dataset for testing...\")\n",
    "\n",
    "# Create dummy data\n",
    "X_dummy, y_dummy = create_dummy_dataset(n_samples=600, n_classes=20)\n",
    "\n",
    "# Split into train/val/test\n",
    "X_train_val, X_test, y_train_val, y_test = train_test_split(\n",
    "    X_dummy, y_dummy, test_size=0.2, random_state=42, stratify=y_dummy.argmax(axis=1)\n",
    ")\n",
    "\n",
    "X_train, X_val, y_train, y_val = train_test_split(\n",
    "    X_train_val, y_train_val, test_size=0.25, random_state=42, \n",
    "    stratify=y_train_val.argmax(axis=1)\n",
    ")\n",
    "\n",
    "# Define input shape and label map\n",
    "input_shape = X_train.shape[1:]  # (128, 216, 1)\n",
    "label_map = {f\"species_{i}\": i for i in range(20)}\n",
    "\n",
    "print(\"Dataset created successfully!\")\n",
    "print(\"Input shape:\", input_shape)\n",
    "print(\"Train/Val/Test sizes:\", X_train.shape[0], X_val.shape[0], X_test.shape[0])\n",
    "\n",
    "# Now your model code will work:\n",
    "from tensorflow.keras import layers, models\n",
    "\n",
    "model = models.Sequential([\n",
    "    layers.Input(shape=input_shape),\n",
    "    layers.Conv2D(32, (3,3), activation='relu'),\n",
    "    layers.MaxPooling2D((2,2)),\n",
    "    \n",
    "    layers.Conv2D(64, (3,3), activation='relu'),\n",
    "    layers.MaxPooling2D((2,2)),\n",
    "    \n",
    "    layers.Flatten(),\n",
    "    layers.Dense(128, activation='relu'),\n",
    "    layers.Dense(len(label_map), activation='softmax'),\n",
    "])\n",
    "\n",
    "model.compile(optimizer='adam',\n",
    "              loss='categorical_crossentropy',\n",
    "              metrics=['accuracy'])\n",
    "\n",
    "# Train the model\n",
    "history = model.fit(\n",
    "    X_train, y_train,\n",
    "    validation_data=(X_val, y_val),\n",
    "    batch_size=32,\n",
    "    epochs=5,  # Reduced for testing\n",
    "    callbacks=[tf.keras.callbacks.EarlyStopping(patience=3, restore_best_weights=True)]\n",
    ")\n",
    "\n",
    "print(\"Model training completed!\")"
   ]
  },
  {
   "cell_type": "code",
   "execution_count": 7,
   "metadata": {},
   "outputs": [
    {
     "name": "stdout",
     "output_type": "stream",
     "text": [
      "Warning: 2 files not found, dropping those rows:\n",
      "['XC680227', 'XC23831']\n"
     ]
    },
    {
     "name": "stderr",
     "output_type": "stream",
     "text": [
      "Note: Illegal Audio-MPEG-Header 0x7972736f at offset 82464.\n",
      "Note: Trying to resync...\n",
      "Note: Hit end of (available) data during resync.\n",
      "Warning: Xing stream size off by more than 1%, fuzzy seeking may be even more fuzzy than by design!\n",
      "Warning: Xing stream size off by more than 1%, fuzzy seeking may be even more fuzzy than by design!\n",
      "Warning: Xing stream size off by more than 1%, fuzzy seeking may be even more fuzzy than by design!\n",
      "Note: Illegal Audio-MPEG-Header 0x2c20476f at offset 79329.\n",
      "Note: Trying to resync...\n",
      "Note: Hit end of (available) data during resync.\n"
     ]
    },
    {
     "name": "stdout",
     "output_type": "stream",
     "text": [
      "File not found: audio/XC23831.mp3\n"
     ]
    },
    {
     "name": "stderr",
     "output_type": "stream",
     "text": [
      "Warning: Xing stream size off by more than 1%, fuzzy seeking may be even more fuzzy than by design!\n",
      "Warning: Xing stream size off by more than 1%, fuzzy seeking may be even more fuzzy than by design!\n",
      "Warning: Xing stream size off by more than 1%, fuzzy seeking may be even more fuzzy than by design!\n"
     ]
    },
    {
     "name": "stdout",
     "output_type": "stream",
     "text": [
      "Skipped 1 files that couldn't be loaded\n"
     ]
    },
    {
     "name": "stderr",
     "output_type": "stream",
     "text": [
      "Warning: Xing stream size off by more than 1%, fuzzy seeking may be even more fuzzy than by design!\n",
      "Warning: Xing stream size off by more than 1%, fuzzy seeking may be even more fuzzy than by design!\n",
      "Warning: Xing stream size off by more than 1%, fuzzy seeking may be even more fuzzy than by design!\n"
     ]
    },
    {
     "name": "stdout",
     "output_type": "stream",
     "text": [
      "File not found: audio/XC680227.mp3\n",
      "Skipped 1 files that couldn't be loaded\n",
      "Input shape: (128, 216, 1)\n",
      "Sizes (train/val/test): 359 120 119\n"
     ]
    },
    {
     "name": "stderr",
     "output_type": "stream",
     "text": [
      "Warning: Xing stream size off by more than 1%, fuzzy seeking may be even more fuzzy than by design!\n"
     ]
    }
   ],
   "source": [
    "import os\n",
    "import glob\n",
    "import numpy as np\n",
    "import tensorflow as tf\n",
    "\n",
    "# Helper to find the single .mp3 under audio/ matching an xc_id\n",
    "def find_audio_path(xc_id):\n",
    "    # recursive glob for e.g. audio/**/XC66646.mp3\n",
    "    pattern = os.path.join('audio', '**', f'{xc_id}.mp3')\n",
    "    matches = glob.glob(pattern, recursive=True)\n",
    "    return matches[0] if matches else None\n",
    "\n",
    "# 5.0 — rebuild df['filepath'] using the finder\n",
    "df['filepath'] = df['xc_id'].apply(find_audio_path)\n",
    "\n",
    "# 5.1 — report & drop missing\n",
    "missing = df['filepath'].isna()\n",
    "if missing.any():\n",
    "    print(f\"Warning: {missing.sum()} files not found, dropping those rows:\")\n",
    "    print(df.loc[missing, 'xc_id'].tolist())\n",
    "    df = df[~missing].reset_index(drop=True)\n",
    "\n",
    "# 5.2 — build_dataset now only sees real files and handles no file cases\n",
    "def build_dataset(df_subset):\n",
    "    X, y = [], []\n",
    "    failed_files = []\n",
    "    \n",
    "    for _, row in df_subset.iterrows():  # Fixed: removed asterisks\n",
    "        feat = extract_mel(row['filepath'])\n",
    "        # Skip if extraction failed (feat is None)\n",
    "        if feat is None:\n",
    "            failed_files.append(row['filepath'])\n",
    "            continue\n",
    "        X.append(feat[..., np.newaxis])  # → (128, T, 1)\n",
    "        y.append(row['label'])\n",
    "    \n",
    "    if failed_files:\n",
    "        print(f\"Skipped {len(failed_files)} files that couldn't be loaded\")\n",
    "    \n",
    "    if len(X) == 0:\n",
    "        raise ValueError(\"No valid audio files found! Please check your file paths and audio files.\")\n",
    "    \n",
    "    X = np.stack(X, axis=0)  # → (N, 128, T, 1)\n",
    "    y = tf.keras.utils.to_categorical(\n",
    "        y,\n",
    "        num_classes=len(label_map)\n",
    "    )\n",
    "    return X, y\n",
    "\n",
    "# 5.3 — apply to splits\n",
    "X_train, y_train = build_dataset(train)\n",
    "X_val,   y_val   = build_dataset(val)\n",
    "X_test,  y_test  = build_dataset(test)\n",
    "\n",
    "# 5.4 — sanity check\n",
    "input_shape = X_train.shape[1:]\n",
    "print(\"Input shape:\", input_shape)\n",
    "print(\"Sizes (train/val/test):\", X_train.shape[0],\n",
    "      X_val.shape[0], X_test.shape[0])\n"
   ]
  },
  {
   "cell_type": "code",
   "execution_count": 8,
   "metadata": {},
   "outputs": [
    {
     "name": "stdout",
     "output_type": "stream",
     "text": [
      "Epoch 1/30\n",
      "\u001b[1m12/12\u001b[0m \u001b[32m━━━━━━━━━━━━━━━━━━━━\u001b[0m\u001b[37m\u001b[0m \u001b[1m3s\u001b[0m 214ms/step - accuracy: 0.0891 - loss: 5.2085 - val_accuracy: 0.1250 - val_loss: 2.8723\n",
      "Epoch 2/30\n",
      "\u001b[1m12/12\u001b[0m \u001b[32m━━━━━━━━━━━━━━━━━━━━\u001b[0m\u001b[37m\u001b[0m \u001b[1m2s\u001b[0m 206ms/step - accuracy: 0.1783 - loss: 2.7878 - val_accuracy: 0.2167 - val_loss: 2.7131\n",
      "Epoch 3/30\n",
      "\u001b[1m12/12\u001b[0m \u001b[32m━━━━━━━━━━━━━━━━━━━━\u001b[0m\u001b[37m\u001b[0m \u001b[1m2s\u001b[0m 192ms/step - accuracy: 0.3705 - loss: 2.3151 - val_accuracy: 0.3167 - val_loss: 2.3610\n",
      "Epoch 4/30\n",
      "\u001b[1m12/12\u001b[0m \u001b[32m━━━━━━━━━━━━━━━━━━━━\u001b[0m\u001b[37m\u001b[0m \u001b[1m2s\u001b[0m 196ms/step - accuracy: 0.5292 - loss: 1.6093 - val_accuracy: 0.3917 - val_loss: 2.1332\n",
      "Epoch 5/30\n",
      "\u001b[1m12/12\u001b[0m \u001b[32m━━━━━━━━━━━━━━━━━━━━\u001b[0m\u001b[37m\u001b[0m \u001b[1m2s\u001b[0m 208ms/step - accuracy: 0.7019 - loss: 1.0480 - val_accuracy: 0.4250 - val_loss: 1.9411\n",
      "Epoch 6/30\n",
      "\u001b[1m12/12\u001b[0m \u001b[32m━━━━━━━━━━━━━━━━━━━━\u001b[0m\u001b[37m\u001b[0m \u001b[1m3s\u001b[0m 214ms/step - accuracy: 0.8357 - loss: 0.6200 - val_accuracy: 0.4250 - val_loss: 2.0857\n",
      "Epoch 7/30\n",
      "\u001b[1m12/12\u001b[0m \u001b[32m━━━━━━━━━━━━━━━━━━━━\u001b[0m\u001b[37m\u001b[0m \u001b[1m2s\u001b[0m 200ms/step - accuracy: 0.9443 - loss: 0.2859 - val_accuracy: 0.4833 - val_loss: 1.9854\n",
      "Epoch 8/30\n",
      "\u001b[1m12/12\u001b[0m \u001b[32m━━━━━━━━━━━━━━━━━━━━\u001b[0m\u001b[37m\u001b[0m \u001b[1m2s\u001b[0m 195ms/step - accuracy: 0.9833 - loss: 0.1122 - val_accuracy: 0.4750 - val_loss: 2.3233\n",
      "Epoch 9/30\n",
      "\u001b[1m12/12\u001b[0m \u001b[32m━━━━━━━━━━━━━━━━━━━━\u001b[0m\u001b[37m\u001b[0m \u001b[1m2s\u001b[0m 191ms/step - accuracy: 0.9889 - loss: 0.0419 - val_accuracy: 0.4833 - val_loss: 2.5017\n",
      "Epoch 10/30\n",
      "\u001b[1m12/12\u001b[0m \u001b[32m━━━━━━━━━━━━━━━━━━━━\u001b[0m\u001b[37m\u001b[0m \u001b[1m2s\u001b[0m 204ms/step - accuracy: 0.9889 - loss: 0.0423 - val_accuracy: 0.4833 - val_loss: 2.4092\n"
     ]
    }
   ],
   "source": [
    "from tensorflow.keras import layers, models\n",
    "\n",
    "model = models.Sequential([\n",
    "    layers.Input(shape=input_shape),\n",
    "    layers.Conv2D(32, (3,3), activation='relu'),\n",
    "    layers.MaxPooling2D((2,2)),\n",
    "    \n",
    "    layers.Conv2D(64, (3,3), activation='relu'),\n",
    "    layers.MaxPooling2D((2,2)),\n",
    "    \n",
    "    layers.Flatten(),\n",
    "    layers.Dense(128, activation='relu'),\n",
    "    layers.Dense(len(label_map), activation='softmax'),\n",
    "])\n",
    "\n",
    "model.compile(optimizer='adam',\n",
    "              loss='categorical_crossentropy',\n",
    "              metrics=['accuracy'])\n",
    "\n",
    "history = model.fit(\n",
    "    X_train, y_train,\n",
    "    validation_data=(X_val, y_val),\n",
    "    batch_size=32,\n",
    "    epochs=30,\n",
    "    callbacks=[tf.keras.callbacks.EarlyStopping(patience=5, restore_best_weights=True)]\n",
    ")\n"
   ]
  },
  {
   "cell_type": "code",
   "execution_count": 9,
   "metadata": {},
   "outputs": [
    {
     "name": "stdout",
     "output_type": "stream",
     "text": [
      "\u001b[1m4/4\u001b[0m \u001b[32m━━━━━━━━━━━━━━━━━━━━\u001b[0m\u001b[37m\u001b[0m \u001b[1m0s\u001b[0m 73ms/step\n"
     ]
    },
    {
     "data": {
      "image/png": "[encoded data removed]",
      "text/plain": [
       "<Figure size 640x480 with 2 Axes>"
      ]
     },
     "metadata": {},
     "output_type": "display_data"
    }
   ],
   "source": [
    "import numpy as np\n",
    "import matplotlib.pyplot as plt\n",
    "from sklearn.metrics import confusion_matrix, ConfusionMatrixDisplay\n",
    "\n",
    "# 1. Predict on the test set\n",
    "y_pred_probs = model.predict(X_test)              # shape: (num_samples, 20)\n",
    "y_pred = np.argmax(y_pred_probs, axis=1)          # predicted class indices\n",
    "y_true = np.argmax(y_test, axis=1)                # true class indices\n",
    "\n",
    "# 2. Compute confusion matrix\n",
    "cm = confusion_matrix(y_true, y_pred)\n",
    "\n",
    "# 3. Display confusion matrix\n",
    "disp = ConfusionMatrixDisplay(confusion_matrix=cm)\n",
    "disp.plot(xticks_rotation=90, cmap='Blues')\n",
    "plt.title(\"Confusion Matrix for Bird Species Classification\")\n",
    "plt.xlabel(\"Predicted Label\")\n",
    "plt.ylabel(\"True Label\")\n",
    "plt.tight_layout()\n",
    "plt.show()\n"
   ]
  }
 ],
 "metadata": {
  "kernelspec": {
   "display_name": "Python 3",
   "language": "python",
   "name": "python3"
  },
  "language_info": {
   "codemirror_mode": {
    "name": "ipython",
    "version": 3
   },
   "file_extension": ".py",
   "mimetype": "text/x-python",
   "name": "python",
   "nbconvert_exporter": "python",
   "pygments_lexer": "ipython3",
   "version": "3.12.1"
  }
 },
 "nbformat": 4,
 "nbformat_minor": 2
}
