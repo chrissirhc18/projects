{
 "cells": [
  {
   "cell_type": "code",
   "execution_count": null,
   "metadata": {},
   "outputs": [
    {
     "name": "stdout",
     "output_type": "stream",
     "text": [
      "(600, 10)\n",
      "['Brazilian Tinamou' 'Red-legged Tinamou' 'Yellow-legged Tinamou'\n",
      " 'Black-capped Tinamou' 'Thicket Tinamou' 'Variegated Tinamou'\n",
      " \"Bartlett's Tinamou\" 'Small-billed Tinamou' 'Tataupa Tinamou'\n",
      " 'Red-winged Tinamou' 'Andean Tinamou' 'White-bellied Nothura'\n",
      " 'Spotted Nothura' 'Dwarf Tinamou' 'Orange-footed Scrubfowl'\n",
      " 'Plain Chachalaca' 'Little Chachalaca' 'Band-tailed Guan' 'Andean Guan'\n",
      " 'Rusty-margined Guan']\n"
     ]
    }
   ],
   "source": [
    "import pandas as pd\n",
    "\n",
    "# read the CSV\n",
    "df = pd.read_csv('BirdsVoice.csv')\n",
    "\n",
    "# compute total recordings per species\n",
    "counts = df['common_name'].value_counts()\n",
    "top20 = counts.nlargest(20).index\n",
    "\n",
    "# filter to top 20 and reset index\n",
    "df = df[df['common_name'].isin(top20)].reset_index(drop=True)\n",
    "print(df.shape)            # ~600 × 10\n",
    "print(df['common_name'].unique())\n"
   ]
  },
  {
   "cell_type": "code",
   "execution_count": null,
   "metadata": {},
   "outputs": [
    {
     "name": "stdout",
     "output_type": "stream",
     "text": [
      "             filepath  duration_s\n",
      "0  audio/XC524787.mp3          57\n",
      "1  audio/XC521357.mp3           6\n",
      "2  audio/XC686176.mp3          53\n",
      "3  audio/XC643154.mp3         140\n",
      "4  audio/XC606110.mp3          42\n",
      "(360, 13) (120, 13) (120, 13)\n"
     ]
    }
   ],
   "source": [
    "import os\n",
    "\n",
    "# convert “M:SS” → seconds\n",
    "def length_to_seconds(x):\n",
    "    m, s = x.split(':')\n",
    "    return int(m) * 60 + int(s)\n",
    "\n",
    "df['duration_s'] = df['recording_length'].apply(length_to_seconds)\n",
    "\n",
    "# create filepaths you’ve downloaded into ./audio/, named by xc_id:\n",
    "df['filepath'] = df['xc_id'].apply(lambda id: os.path.join('audio', f'{id}.mp3'))\n",
    "\n",
    "# quick check\n",
    "print(df[['filepath','duration_s']].head())\n",
    "\n",
    "from sklearn.model_selection import train_test_split\n",
    "\n",
    "# label encoding\n",
    "label_map = {name:idx for idx,name in enumerate(top20)}\n",
    "df['label'] = df['common_name'].map(label_map)\n",
    "\n",
    "# 60/20/20 stratified split\n",
    "trainval, test = train_test_split(df, test_size=0.20, \n",
    "                                  stratify=df['label'], random_state=42)\n",
    "train, val   = train_test_split(trainval, test_size=0.25,  # 0.25×0.8 = 0.20\n",
    "                                 stratify=trainval['label'], random_state=42)\n",
    "\n",
    "print(train.shape, val.shape, test.shape)\n"
   ]
  },
  {
   "cell_type": "code",
   "execution_count": null,
   "metadata": {},
   "outputs": [],
   "source": [
    "import numpy as np\n",
    "import librosa\n",
    "import os\n",
    "\n",
    "# Audio settings\n",
    "SR = 22050  # sampling rate\n",
    "DURATION = 5.0  # seconds to load/pad\n",
    "N_MELS = 128  # number of mel bands\n",
    "\n",
    "# Load an audio file, pad or truncate to exactly DURATION seconds,\n",
    "# compute a N_MELS-band mel-spectrogram, convert to dB, and z-score normalize.\n",
    "def extract_mel(path):\n",
    "    try:\n",
    "        # check if file exists\n",
    "        if not os.path.exists(path):\n",
    "            print(f\"File not found: {path}\")\n",
    "            return None\n",
    "            \n",
    "        # load (will truncate if longer than DURATION)\n",
    "        y, _ = librosa.load(path, sr=SR, mono=True, duration=DURATION)\n",
    "        \n",
    "        # check if audio was loaded successfully\n",
    "        if len(y) == 0:\n",
    "            print(f\"Empty audio file: {path}\")\n",
    "            return None\n",
    "        \n",
    "        # pad with zeros if too short\n",
    "        target_len = int(SR * DURATION)\n",
    "        if len(y) < target_len:\n",
    "            y = np.pad(y, (0, target_len - len(y)))\n",
    "        \n",
    "        # compute mel-spectrogram\n",
    "        m = librosa.feature.melspectrogram(y=y, sr=SR, n_mels=N_MELS)\n",
    "        m_db = librosa.power_to_db(m, ref=np.max)\n",
    "        \n",
    "        # Z-score normalization\n",
    "        m_norm = (m_db - m_db.mean()) / (m_db.std() + 1e-6)\n",
    "        \n",
    "        return m_norm\n",
    "        \n",
    "    except Exception as e:\n",
    "        print(f\"Error processing {path}: {str(e)}\")\n",
    "        return None\n"
   ]
  },
  {
   "cell_type": "code",
   "execution_count": null,
   "metadata": {},
   "outputs": [
    {
     "name": "stdout",
     "output_type": "stream",
     "text": [
      "Warning: 2 files not found, dropping those rows:\n",
      "['XC680227', 'XC23831']\n"
     ]
    },
    {
     "name": "stderr",
     "output_type": "stream",
     "text": [
      "Note: Illegal Audio-MPEG-Header 0x7972736f at offset 82464.\n",
      "Note: Trying to resync...\n",
      "Note: Hit end of (available) data during resync.\n",
      "Warning: Xing stream size off by more than 1%, fuzzy seeking may be even more fuzzy than by design!\n",
      "Warning: Xing stream size off by more than 1%, fuzzy seeking may be even more fuzzy than by design!\n",
      "Warning: Xing stream size off by more than 1%, fuzzy seeking may be even more fuzzy than by design!\n",
      "Note: Illegal Audio-MPEG-Header 0x2c20476f at offset 79329.\n",
      "Note: Trying to resync...\n",
      "Note: Hit end of (available) data during resync.\n"
     ]
    },
    {
     "name": "stdout",
     "output_type": "stream",
     "text": [
      "File not found: audio/XC23831.mp3\n"
     ]
    },
    {
     "name": "stderr",
     "output_type": "stream",
     "text": [
      "Warning: Xing stream size off by more than 1%, fuzzy seeking may be even more fuzzy than by design!\n",
      "Warning: Xing stream size off by more than 1%, fuzzy seeking may be even more fuzzy than by design!\n",
      "Warning: Xing stream size off by more than 1%, fuzzy seeking may be even more fuzzy than by design!\n"
     ]
    },
    {
     "name": "stdout",
     "output_type": "stream",
     "text": [
      "Skipped 1 files that couldn't be loaded\n"
     ]
    },
    {
     "name": "stderr",
     "output_type": "stream",
     "text": [
      "Warning: Xing stream size off by more than 1%, fuzzy seeking may be even more fuzzy than by design!\n",
      "Warning: Xing stream size off by more than 1%, fuzzy seeking may be even more fuzzy than by design!\n",
      "Warning: Xing stream size off by more than 1%, fuzzy seeking may be even more fuzzy than by design!\n"
     ]
    },
    {
     "name": "stdout",
     "output_type": "stream",
     "text": [
      "File not found: audio/XC680227.mp3\n",
      "Skipped 1 files that couldn't be loaded\n",
      "Input shape: (128, 216, 1)\n",
      "Sizes (train/val/test): 359 120 119\n"
     ]
    },
    {
     "name": "stderr",
     "output_type": "stream",
     "text": [
      "Warning: Xing stream size off by more than 1%, fuzzy seeking may be even more fuzzy than by design!\n"
     ]
    }
   ],
   "source": [
    "import os\n",
    "import glob\n",
    "import numpy as np\n",
    "import tensorflow as tf\n",
    "\n",
    "# helper method to find the single .mp3 under audio/ matching an xc_id\n",
    "def find_audio_path(xc_id):\n",
    "    # recursive glob for e.g. audio/**/XC66646.mp3\n",
    "    pattern = os.path.join('audio', '**', f'{xc_id}.mp3')\n",
    "    matches = glob.glob(pattern, recursive=True)\n",
    "    return matches[0] if matches else None\n",
    "\n",
    "# rebuild df['filepath'] using the finder\n",
    "df['filepath'] = df['xc_id'].apply(find_audio_path)\n",
    "\n",
    "# report & drop missing\n",
    "missing = df['filepath'].isna()\n",
    "if missing.any():\n",
    "    print(f\"Warning: {missing.sum()} files not found, dropping those rows:\")\n",
    "    print(df.loc[missing, 'xc_id'].tolist())\n",
    "    df = df[~missing].reset_index(drop=True)\n",
    "\n",
    "# build_dataset now only sees real files and handles no file cases\n",
    "def build_dataset(df_subset):\n",
    "    X, y = [], []\n",
    "    failed_files = []\n",
    "    \n",
    "    for _, row in df_subset.iterrows():  # Fixed: removed asterisks\n",
    "        feat = extract_mel(row['filepath'])\n",
    "        # skip if extraction failed (feat is None)\n",
    "        if feat is None:\n",
    "            failed_files.append(row['filepath'])\n",
    "            continue\n",
    "        X.append(feat[..., np.newaxis])  # → (128, T, 1)\n",
    "        y.append(row['label'])\n",
    "    \n",
    "    if failed_files:\n",
    "        print(f\"Skipped {len(failed_files)} files that couldn't be loaded\")\n",
    "    \n",
    "    if len(X) == 0:\n",
    "        raise ValueError(\"No valid audio files found! Please check your file paths and audio files.\")\n",
    "    \n",
    "    X = np.stack(X, axis=0)  # → (N, 128, T, 1)\n",
    "    y = tf.keras.utils.to_categorical(\n",
    "        y,\n",
    "        num_classes=len(label_map)\n",
    "    )\n",
    "    return X, y\n",
    "\n",
    "# apply to splits\n",
    "X_train, y_train = build_dataset(train)\n",
    "X_val,   y_val   = build_dataset(val)\n",
    "X_test,  y_test  = build_dataset(test)\n",
    "\n",
    "# size and input shape\n",
    "input_shape = X_train.shape[1:]\n",
    "print(\"Input shape:\", input_shape)\n",
    "print(\"Sizes (train/val/test):\", X_train.shape[0],\n",
    "      X_val.shape[0], X_test.shape[0])\n",
    "\n"
   ]
  },
  {
   "cell_type": "code",
   "execution_count": null,
   "metadata": {},
   "outputs": [
    {
     "ename": "NameError",
     "evalue": "name 'input_shape' is not defined",
     "output_type": "error",
     "traceback": [
      "\u001b[31m---------------------------------------------------------------------------\u001b[39m",
      "\u001b[31mNameError\u001b[39m                                 Traceback (most recent call last)",
      "\u001b[36mCell\u001b[39m\u001b[36m \u001b[39m\u001b[32mIn[1]\u001b[39m\u001b[32m, line 4\u001b[39m\n\u001b[32m      1\u001b[39m \u001b[38;5;28;01mfrom\u001b[39;00m\u001b[38;5;250m \u001b[39m\u001b[34;01mtensorflow\u001b[39;00m\u001b[34;01m.\u001b[39;00m\u001b[34;01mkeras\u001b[39;00m\u001b[38;5;250m \u001b[39m\u001b[38;5;28;01mimport\u001b[39;00m layers, models\n\u001b[32m      2\u001b[39m \u001b[38;5;66;03m# define a cnn model\u001b[39;00m\n\u001b[32m      3\u001b[39m model = models.Sequential([\n\u001b[32m----> \u001b[39m\u001b[32m4\u001b[39m     layers.Input(shape=\u001b[43minput_shape\u001b[49m), \n\u001b[32m      5\u001b[39m     layers.Conv2D(\u001b[32m32\u001b[39m, (\u001b[32m3\u001b[39m,\u001b[32m3\u001b[39m), activation=\u001b[33m'\u001b[39m\u001b[33mrelu\u001b[39m\u001b[33m'\u001b[39m), \u001b[38;5;66;03m# first conv layer: 3x3 kernel, 32 filters, ReLU activation\u001b[39;00m\n\u001b[32m      6\u001b[39m     layers.MaxPooling2D((\u001b[32m2\u001b[39m,\u001b[32m2\u001b[39m)), \n\u001b[32m      7\u001b[39m \n\u001b[32m      8\u001b[39m     layers.Conv2D(\u001b[32m64\u001b[39m, (\u001b[32m3\u001b[39m,\u001b[32m3\u001b[39m), activation=\u001b[33m'\u001b[39m\u001b[33mrelu\u001b[39m\u001b[33m'\u001b[39m), \u001b[38;5;66;03m# second conv layer: 3x3 kernel, 64 filters, ReLU activation\u001b[39;00m\n\u001b[32m      9\u001b[39m     layers.MaxPooling2D((\u001b[32m2\u001b[39m,\u001b[32m2\u001b[39m)), \n\u001b[32m     10\u001b[39m \n\u001b[32m     11\u001b[39m     layers.Flatten(), \u001b[38;5;66;03m# flatten to 1D\u001b[39;00m\n\u001b[32m     12\u001b[39m     layers.Dense(\u001b[32m128\u001b[39m, activation=\u001b[33m'\u001b[39m\u001b[33mrelu\u001b[39m\u001b[33m'\u001b[39m), \u001b[38;5;66;03m# fully connected layer with 128 units and ReLU activation\u001b[39;00m\n\u001b[32m     13\u001b[39m     layers.Dense(\u001b[38;5;28mlen\u001b[39m(label_map), activation=\u001b[33m'\u001b[39m\u001b[33msoftmax\u001b[39m\u001b[33m'\u001b[39m), \u001b[38;5;66;03m# output layer with softmax for multi-class classification''-'['=]\u001b[39;00m\n\u001b[32m     14\u001b[39m ])\n\u001b[32m     16\u001b[39m model.compile(optimizer=\u001b[33m'\u001b[39m\u001b[33madam\u001b[39m\u001b[33m'\u001b[39m,\n\u001b[32m     17\u001b[39m               loss=\u001b[33m'\u001b[39m\u001b[33mcategorical_crossentropy\u001b[39m\u001b[33m'\u001b[39m,\n\u001b[32m     18\u001b[39m               metrics=[\u001b[33m'\u001b[39m\u001b[33maccuracy\u001b[39m\u001b[33m'\u001b[39m])\n\u001b[32m     20\u001b[39m history = model.fit(\n\u001b[32m     21\u001b[39m     X_train, y_train,\n\u001b[32m     22\u001b[39m     validation_data=(X_val, y_val),\n\u001b[32m   (...)\u001b[39m\u001b[32m     25\u001b[39m     callbacks=[tf.keras.callbacks.EarlyStopping(patience=\u001b[32m5\u001b[39m, restore_best_weights=\u001b[38;5;28;01mTrue\u001b[39;00m)]\n\u001b[32m     26\u001b[39m )\n",
      "\u001b[31mNameError\u001b[39m: name 'input_shape' is not defined"
     ]
    }
   ],
   "source": [
    "from tensorflow.keras import layers, models\n",
    "# define a cnn model\n",
    "model = models.Sequential([\n",
    "    layers.Input(shape=input_shape), \n",
    "    layers.Conv2D(32, (3,3), activation='relu'), # first conv layer: 3x3 kernel, 32 filters, ReLU activation\n",
    "    layers.MaxPooling2D((2,2)), \n",
    "    \n",
    "    layers.Conv2D(64, (3,3), activation='relu'), # second conv layer: 3x3 kernel, 64 filters, ReLU activation\n",
    "    layers.MaxPooling2D((2,2)), \n",
    "    \n",
    "    layers.Flatten(), # flatten to 1D\n",
    "    layers.Dense(128, activation='relu'), # fully connected layer with 128 units and ReLU activation\n",
    "    layers.Dense(len(label_map), activation='softmax'), # output layer with softmax for multi-class classification''-'['=]\n",
    "])\n",
    "\n",
    "model.compile(optimizer='adam',\n",
    "              loss='categorical_crossentropy',\n",
    "              metrics=['accuracy']) # compile the model with Adam optimizer, categorical crossentropy loss, and accuracy metric\n",
    "# train model with validation data and early stopping\n",
    "history = model.fit(\n",
    "    X_train, y_train,\n",
    "    validation_data=(X_val, y_val),\n",
    "    batch_size=32,\n",
    "    epochs=30,\n",
    "    # stop training early if validation loss doesn't improve for 5 epochs\n",
    "    callbacks=[tf.keras.callbacks.EarlyStopping(patience=5, restore_best_weights=True)] \n",
    ")\n"
   ]
  },
  {
   "cell_type": "code",
   "execution_count": null,
   "metadata": {},
   "outputs": [
    {
     "name": "stdout",
     "output_type": "stream",
     "text": [
      "\u001b[1m4/4\u001b[0m \u001b[32m━━━━━━━━━━━━━━━━━━━━\u001b[0m\u001b[37m\u001b[0m \u001b[1m0s\u001b[0m 54ms/step\n"
     ]
    },
    {
     "data": {
      "image/png": "[encoded data removed]",
      "text/plain": [
       "<Figure size 640x480 with 2 Axes>"
      ]
     },
     "metadata": {},
     "output_type": "display_data"
    }
   ],
   "source": [
    "import numpy as np\n",
    "import matplotlib.pyplot as plt\n",
    "from sklearn.metrics import confusion_matrix, ConfusionMatrixDisplay\n",
    "\n",
    "# make accurate predictions on the test set\n",
    "y_pred_probs = model.predict(X_test)             \n",
    "y_pred = np.argmax(y_pred_probs, axis=1)          \n",
    "y_true = np.argmax(y_test, axis=1)                \n",
    "\n",
    "# compute confusion matrix\n",
    "cm = confusion_matrix(y_true, y_pred)\n",
    "\n",
    "# display confusion matrix\n",
    "disp = ConfusionMatrixDisplay(confusion_matrix=cm)\n",
    "disp.plot(xticks_rotation=90, cmap='Blues')\n",
    "plt.title(\"Confusion Matrix for Bird Species Classification\")\n",
    "plt.xlabel(\"Predicted Label\")\n",
    "plt.ylabel(\"True Label\")\n",
    "plt.tight_layout()\n",
    "plt.show()\n"
   ]
  }
 ],
 "metadata": {
  "kernelspec": {
   "display_name": "Python 3",
   "language": "python",
   "name": "python3"
  },
  "language_info": {
   "codemirror_mode": {
    "name": "ipython",
    "version": 3
   },
   "file_extension": ".py",
   "mimetype": "text/x-python",
   "name": "python",
   "nbconvert_exporter": "python",
   "pygments_lexer": "ipython3",
   "version": "3.12.1"
  }
 },
 "nbformat": 4,
 "nbformat_minor": 2
}
